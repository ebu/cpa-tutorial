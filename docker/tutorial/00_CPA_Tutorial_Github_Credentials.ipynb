{
 "cells": [
  {
   "cell_type": "markdown",
   "metadata": {},
   "source": [
    "# Tutorial Setup\n",
    "\n",
    "## Github credentials\n",
    "\n",
    "*TODO* Explain\n",
    "The following document set _Github_ as **Identity Provider** for the CPA **Authorization Provider** and restart the services in order to enable the new configurations.\n",
    "\n",
    "\n",
    "1. To generate credentials, please go to : https://github.com/settings/applications/new\n",
    "     \n",
    " * Parameters to use for this tutorial:\n",
    "     - Application name : EBU CPA tutorial\n",
    "     - Homepage URL: http://localhost:8001\n",
    "     - Application description: EBU CPA tutorial\n",
    "     - Authorization callback URL: http://localhost:8001/auth/github/callback\n",
    "     \n",
    "2. Fill `CLIENT_ID` and `CLIENT_SECRET` with the credentials generated above in the following cell.\n",
    "3. Press Shift + ENTER to execute the cell."
   ]
  },
  {
   "cell_type": "code",
   "execution_count": 1,
   "metadata": {
    "collapsed": false
   },
   "outputs": [
    {
     "name": "stdout",
     "output_type": "stream",
     "text": [
      "[OK]    Tutorial utilities successfully loaded.\n",
      "[OK]    Configuration saved.\n",
      "[OK]    Restarting services with new configuration.\n",
      "[skip]  Recreating docker_authprovider_1...\n",
      "\n"
     ]
    }
   ],
   "source": [
    "var CLIENT_ID = \"<FILL_HERE>\";\n",
    "var CLIENT_SECRET = \"<FILL_HERE>\";\n",
    "\n",
    "//LOAD tutorial-utils\n",
    "require('/opt/notebooks/tutorial/lib/tutorial-utils')(this);\n",
    "this.setGithubCredentials(CLIENT_ID, CLIENT_SECRET);"
   ]
  },
  {
   "cell_type": "markdown",
   "metadata": {},
   "source": [
    "## Next\n",
    "Go to [Part 1](01_CPA_Tutorial_Basic_Instructions.ipynb)"
   ]
  }
 ],
 "metadata": {
  "kernelspec": {
   "display_name": "NodeJS",
   "language": "javascript",
   "name": "nodejs"
  },
  "language_info": {
   "codemirror_mode": "javascript",
   "file_extension": "js",
   "mimetype": "text/javascript",
   "name": "nodejs",
   "pygments_lexer": "javascript",
   "version": "0.10"
  }
 },
 "nbformat": 4,
 "nbformat_minor": 0
}
