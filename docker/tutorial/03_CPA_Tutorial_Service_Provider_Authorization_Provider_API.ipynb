{
 "cells": [
  {
   "cell_type": "markdown",
   "metadata": {},
   "source": [
    "# Service Provider / Authorization Provide API\n",
    "\n",
    "In this step we show how the service provider verifies access tokens with the authorization provider, and obtains user and client identities.\n",
    "\n",
    "## Setup\n",
    "\n",
    "Execute the following line to load the libraries:\n"
   ]
  },
  {
   "cell_type": "code",
   "execution_count": null,
   "metadata": {
    "collapsed": false
   },
   "outputs": [],
   "source": [
    "require('/opt/notebooks/tutorial/lib/tutorial-utils')(this);"
   ]
  },
  {
   "cell_type": "markdown",
   "metadata": {},
   "source": [
    "## Verifying a client access token\n",
    "\n",
    "When the client makes a request to the service provider it includes an access token in the `Authorization` header. The service provider verifies the token with the authorization provider, which returns the user and client identities.\n",
    "\n",
    "![Unauthenticated request](/notebooks/tutorial/images/uml/authenticated-request.png)\n",
    "\n",
    "In the following example, replace `<service_provider_token>` below with the access token for the domain `sp:8002`. You can see this value by signing in to the authorization provider and visiting http://localhost:8001/admin/domains, or in the service provider config [here](https://github.com/ebu/cpa-service-provider/blob/develop/config.docker.js#L22).\n",
    "\n",
    "Replace `<access_token>` with the access token issued to the client in the [previous step](02_CPA_Tutorial_Device_Flow_User_Mode.ipynb)."
   ]
  },
  {
   "cell_type": "code",
   "execution_count": null,
   "metadata": {
    "collapsed": false
   },
   "outputs": [],
   "source": [
    "this.post(\"http://ap:8001/authorized\", {\n",
    "  access_token: \"<access_token>\",\n",
    "  domain: \"sp:8002\"\n",
    "}, { token: \"<service_provider_token>\" });"
   ]
  },
  {
   "cell_type": "markdown",
   "metadata": {},
   "source": [
    "## Next\n",
    "\n",
    "Go to [Device Flow (Client Mode)](04_CPA_Tutorial_Device_Flow_Client_Mode.ipynb)."
   ]
  },
  {
   "cell_type": "code",
   "execution_count": null,
   "metadata": {
    "collapsed": true
   },
   "outputs": [],
   "source": []
  }
 ],
 "metadata": {
  "kernelspec": {
   "display_name": "NodeJS",
   "language": "javascript",
   "name": "nodejs"
  },
  "language_info": {
   "codemirror_mode": "javascript",
   "file_extension": "js",
   "mimetype": "text/javascript",
   "name": "nodejs",
   "pygments_lexer": "javascript",
   "version": "0.10"
  }
 },
 "nbformat": 4,
 "nbformat_minor": 0
}
