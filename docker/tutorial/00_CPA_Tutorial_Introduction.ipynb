{
 "cells": [
  {
   "cell_type": "markdown",
   "metadata": {},
   "source": [
    "# Cross Platform Authentication\n",
    "\n",
    "## Device flow\n",
    "\n",
    "The device flow is designed for limited input, limited display devices, e.g., media devices:\n",
    "\n",
    "* Hybrid radios\n",
    "* Connected TVs\n",
    "\n",
    "## Broadcaster requirements\n",
    "\n",
    "* Single sign-on across multiple services using a common authorization service.\n",
    "* Client mode, so that devices work \"out of the box\" without user registration.\n",
    "* User mode, to associate a device with a user account.\n",
    "\n",
    "## Based on existing standards\n",
    "\n",
    "* OAuth 2.0 (RFC 6749)\n",
    "* OAuth 2.0 Bearer Token Usage (RFC 6750)\n",
    "* OAuth 2.0 Device Profile (draft)\n",
    "* OAuth 2.0 Dynamic Client Registration (draft)\n",
    "* HTTP over TLS (RFC 2818)\n",
    "\n",
    "## Components\n",
    "\n",
    "![CPA components](/notebooks/tutorial/cpa.png)"
   ]
  },
  {
   "cell_type": "markdown",
   "metadata": {},
   "source": [
    "## Next\n",
    "Go to [Tutorial Setup](01_CPA_Tutorial_Setup.ipynb)."
   ]
  },
  {
   "cell_type": "code",
   "execution_count": null,
   "metadata": {
    "collapsed": true
   },
   "outputs": [],
   "source": []
  }
 ],
 "metadata": {
  "kernelspec": {
   "display_name": "NodeJS",
   "language": "javascript",
   "name": "nodejs"
  },
  "language_info": {
   "codemirror_mode": "javascript",
   "file_extension": "js",
   "mimetype": "text/javascript",
   "name": "nodejs",
   "pygments_lexer": "javascript",
   "version": "0.10"
  }
 },
 "nbformat": 4,
 "nbformat_minor": 0
}
