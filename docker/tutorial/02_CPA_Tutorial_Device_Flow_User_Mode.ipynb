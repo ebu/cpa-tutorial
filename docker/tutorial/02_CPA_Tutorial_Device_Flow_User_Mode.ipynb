{
 "cells": [
  {
   "cell_type": "markdown",
   "metadata": {},
   "source": [
    "# CPA Device Flow (User Mode)\n",
    "\n",
    "In this step we show how to:\n",
    "\n",
    "* Register a new client with the authorization provider.\n",
    "* Associate the client with a user account.\n",
    "* Obtain an access token for use with a service provider.\n",
    "* Make a request to the service provider using the access token.\n",
    "\n",
    "## Library\n",
    "\n",
    "Execute the following line to load the libraries\n"
   ]
  },
  {
   "cell_type": "code",
   "execution_count": null,
   "metadata": {
    "collapsed": false
   },
   "outputs": [],
   "source": [
    "require('/opt/notebooks/tutorial/lib/tutorial-utils')(this);"
   ]
  },
  {
   "cell_type": "markdown",
   "metadata": {},
   "source": [
    "## Registering the client\n",
    "\n",
    "To register with the authorization parameter, the client makes a `POST /register` request with the following three parameters:\n",
    "\n",
    "* `client_name`: human-readable name of the client.\n",
    "* `software_id`: an identifier for the client software\n",
    "    application.\n",
    "* `software_version`: a version identifier for the client software application."
   ]
  },
  {
   "cell_type": "code",
   "execution_count": null,
   "metadata": {
    "collapsed": false
   },
   "outputs": [],
   "source": [
    "this.post(\"http://ap:8001/register\", {\n",
    "  client_name: \"My test client\",\n",
    "  software_id: \"cpa-test-client\",\n",
    "  software_version: \"1.0\"\n",
    "});"
   ]
  },
  {
   "cell_type": "markdown",
   "metadata": {},
   "source": [
    "## Associating the client with a user account\n",
    "\n",
    "To associate with a user account, the client makes a `POST /associate` request with the following parameters:\n",
    "\n",
    "* client_id: The unique identifier for the client given by the authorization provider.\n",
    "* client_secret: A shared secret value between the client and authorization provider.\n",
    "* domain: The service provider domain."
   ]
  },
  {
   "cell_type": "code",
   "execution_count": null,
   "metadata": {
    "collapsed": false
   },
   "outputs": [],
   "source": [
    "this.post(\"http://ap:8001/associate\", {\n",
    "  client_id: \"<client_id>\",\n",
    "  client_secret: \"<client_secret>\",\n",
    "  domain: \"sp:8002\"\n",
    "});"
   ]
  },
  {
   "cell_type": "markdown",
   "metadata": {},
   "source": [
    "## Obtaining an access token\n",
    "\n",
    "To obtain an access token, the client makes `POST /token` requests with the following parameters:\n",
    "\n",
    "* client_id: The unique identifier for the client given by the authorization provider.\n",
    "* client_secret: A shared secret value between the client and authorization provider.\n",
    "* device_code: The temporary device verification code.\n",
    "* domain: The service provider domain."
   ]
  },
  {
   "cell_type": "code",
   "execution_count": null,
   "metadata": {
    "collapsed": false
   },
   "outputs": [],
   "source": [
    "this.post(\"http://ap:8001/token\", {\n",
    "  grant_type: \"http://tech.ebu.ch/cpa/1.0/device_code\",\n",
    "  client_id: \"<client_id>\",\n",
    "  client_secret: \"<client_secret>\",\n",
    "  device_code: \"<device_code>\",\n",
    "  domain: \"sp:8002\"\n",
    "});"
   ]
  },
  {
   "cell_type": "markdown",
   "metadata": {},
   "source": [
    "## Approving access\n",
    "\n",
    "To approve access visit the verification url, sign in, and enter the user code given in the `POST /associate` response.\n"
   ]
  },
  {
   "cell_type": "markdown",
   "metadata": {},
   "source": [
    "## Using the access token\n",
    "\n",
    "To use the access token in a request to the service provider, using the RadioTAG protocol, we include the token in a `WWW-Authenticate` header:"
   ]
  },
  {
   "cell_type": "code",
   "execution_count": null,
   "metadata": {
    "collapsed": true
   },
   "outputs": [],
   "source": [
    "var time = Math.floor(new Date().getTime() / 1000);\n",
    "\n",
    "this.post(\"http://sp:8002/radiodns/tag/1/tag\", {\n",
    "  time_source: \"user\",\n",
    "  bearer: \"0.c221.ce15.ce1.dab\",\n",
    "  time: time\n",
    "}, { token: \"<access_token>\" });"
   ]
  },
  {
   "cell_type": "markdown",
   "metadata": {},
   "source": [
    "## Next\n",
    "Go to [Part 2](02_CPA_Tutorial_Auth_Provider.pynb)"
   ]
  }
 ],
 "metadata": {
  "kernelspec": {
   "display_name": "NodeJS",
   "language": "javascript",
   "name": "nodejs"
  },
  "language_info": {
   "codemirror_mode": "javascript",
   "file_extension": "js",
   "mimetype": "text/javascript",
   "name": "nodejs",
   "pygments_lexer": "javascript",
   "version": "0.10"
  }
 },
 "nbformat": 4,
 "nbformat_minor": 0
}
