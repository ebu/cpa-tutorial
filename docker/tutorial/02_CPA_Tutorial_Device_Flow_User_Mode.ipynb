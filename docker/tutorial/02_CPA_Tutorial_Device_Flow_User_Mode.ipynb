{
 "cells": [
  {
   "cell_type": "markdown",
   "metadata": {},
   "source": [
    "# CPA Device Flow (User Mode)\n",
    "\n",
    "In this step we show how to:\n",
    "\n",
    "* Register a new client with the authorization provider.\n",
    "* Associate the client with a user account.\n",
    "* Obtain an access token for use with a service provider.\n",
    "* Make a request to the service provider using the access token.\n",
    "\n",
    "## Setup\n",
    "\n",
    "Execute the following line to load the libraries\n"
   ]
  },
  {
   "cell_type": "code",
   "execution_count": null,
   "metadata": {
    "collapsed": false
   },
   "outputs": [],
   "source": [
    "require('/opt/notebooks/tutorial/lib/tutorial-utils')(this);"
   ]
  },
  {
   "cell_type": "markdown",
   "metadata": {},
   "source": [
    "## Making an unauthenticated request\n",
    "\n",
    "Initially, the client does not have an access token, so will receive a `401 Unauthorized` error when making a request to the service provider. The following request uses the RadioTAG protocol.\n",
    "\n",
    "![Unauthenticated request](/notebooks/tutorial/images/uml/unauthenticated-request.png)"
   ]
  },
  {
   "cell_type": "code",
   "execution_count": null,
   "metadata": {
    "collapsed": false
   },
   "outputs": [],
   "source": [
    "this.post(\"http://sp:8002/radiodns/tag/1/tag\", {\n",
    "  bearer: \"0.c221.ce15.ce1.dab\",\n",
    "  time: \"20150909T10:00:00Z\",\n",
    "  time_source: \"user\"\n",
    "}, { form: true });"
   ]
  },
  {
   "cell_type": "markdown",
   "metadata": {},
   "source": [
    "## WWW-Authenticate header\n",
    "\n",
    "The `401 Unauthorized` response contains a `WWW-Authenticate` header indicating that CPA authentication is supported by this service provider. The header contains several values:\n",
    "\n",
    "* `version`: The protocol version in use, currently 1.0.\n",
    "* `name`: The name of the authorization provider.\n",
    "* `uri`: The base URL of the authorization provider.\n",
    "* `modes`: A comma-separated list of available authorization modes.\n",
    "\n",
    "## User mode\n",
    "\n",
    "![User mode](/notebooks/tutorial/images/uml/user-mode.png)\n",
    "\n",
    "## Registering the client\n",
    "\n",
    "To register with the authorization provider, the client makes a `POST /request` request with the following parameters:\n",
    "\n",
    "* `client_name`: human-readable name of the client.\n",
    "* `software_id`: an identifier for the client software\n",
    "    application.\n",
    "* `software_version`: a version identifier for the client software application.\n",
    "\n",
    "The URL is constructed by appending `/register` to the `uri` value from the `WWW-Authenticate` header."
   ]
  },
  {
   "cell_type": "code",
   "execution_count": null,
   "metadata": {
    "collapsed": false
   },
   "outputs": [],
   "source": [
    "this.post(\"http://ap:8001/register\", {\n",
    "  client_name: \"My test client\",\n",
    "  software_id: \"cpa-test-client\",\n",
    "  software_version: \"1.0\"\n",
    "});"
   ]
  },
  {
   "cell_type": "markdown",
   "metadata": {},
   "source": [
    "## Associating the client with a user account\n",
    "\n",
    "To associate with a user account, the client makes a `POST /associate` request with the following parameters:\n",
    "\n",
    "* `client_id`: The unique identifier for the client given by the authorization provider.\n",
    "* `client_secret`: A shared secret value between the client and authorization provider.\n",
    "* `domain`: The service provider domain."
   ]
  },
  {
   "cell_type": "code",
   "execution_count": null,
   "metadata": {
    "collapsed": false
   },
   "outputs": [],
   "source": [
    "this.post(\"http://ap:8001/associate\", {\n",
    "  client_id: \"<client_id>\",\n",
    "  client_secret: \"<client_secret>\",\n",
    "  domain: \"sp:8002\"\n",
    "});"
   ]
  },
  {
   "cell_type": "markdown",
   "metadata": {},
   "source": [
    "## Obtaining an access token\n",
    "\n",
    "To obtain an access token, the client makes `POST /token` requests with the following parameters:\n",
    "\n",
    "* `grant_type`: The value `\"http://tech.ebu.ch/cpa/1.0/device_code\"`.\n",
    "* `client_id`: The unique identifier for the client given by the authorization provider.\n",
    "* `client_secret`: A shared secret value between the client and authorization provider.\n",
    "* `device_code`: The temporary device verification code.\n",
    "* `domain`: The service provider domain."
   ]
  },
  {
   "cell_type": "code",
   "execution_count": null,
   "metadata": {
    "collapsed": false
   },
   "outputs": [],
   "source": [
    "this.post(\"http://ap:8001/token\", {\n",
    "  grant_type: \"http://tech.ebu.ch/cpa/1.0/device_code\",\n",
    "  client_id: \"<client_id>\",\n",
    "  client_secret: \"<client_secret>\",\n",
    "  device_code: \"<device_code>\",\n",
    "  domain: \"sp:8002\"\n",
    "});"
   ]
  },
  {
   "cell_type": "markdown",
   "metadata": {},
   "source": [
    "## Approving access\n",
    "\n",
    "To approve access, visit the verification URL, sign in, and enter the user code. These verification URL and user code values are returned by the authorization provider in the `POST /associate` response.\n"
   ]
  },
  {
   "cell_type": "markdown",
   "metadata": {},
   "source": [
    "## Using the access token\n",
    "\n",
    "Now that we have obtained an access token for this service provider, we can repeat our initial RadioTAG request, including the token in a `WWW-Authenticate` header.\n",
    "\n",
    "![Authenticated request](/notebooks/tutorial/images/uml/authenticated-request.png)"
   ]
  },
  {
   "cell_type": "code",
   "execution_count": null,
   "metadata": {
    "collapsed": false
   },
   "outputs": [],
   "source": [
    "this.post(\"http://sp:8002/radiodns/tag/1/tag\", {\n",
    "  bearer: \"0.c221.ce15.ce1.dab\",\n",
    "  time: \"20150909T10:00:00Z\",\n",
    "  time_source: \"user\"\n",
    "}, { form: true, token: \"<access_token>\" });"
   ]
  },
  {
   "cell_type": "markdown",
   "metadata": {},
   "source": [
    "## Next\n",
    "\n",
    "Go to [Device Flow (Client Mode)](03_CPA_Tutorial_Device_Flow_Client_Mode.ipynb)."
   ]
  },
  {
   "cell_type": "code",
   "execution_count": null,
   "metadata": {
    "collapsed": true
   },
   "outputs": [],
   "source": []
  }
 ],
 "metadata": {
  "kernelspec": {
   "display_name": "NodeJS",
   "language": "javascript",
   "name": "nodejs"
  },
  "language_info": {
   "codemirror_mode": "javascript",
   "file_extension": "js",
   "mimetype": "text/javascript",
   "name": "nodejs",
   "pygments_lexer": "javascript",
   "version": "0.10"
  }
 },
 "nbformat": 4,
 "nbformat_minor": 0
}
