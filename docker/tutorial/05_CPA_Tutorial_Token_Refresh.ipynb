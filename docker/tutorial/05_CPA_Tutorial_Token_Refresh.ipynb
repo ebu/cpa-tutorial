{
 "cells": [
  {
   "cell_type": "markdown",
   "metadata": {},
   "source": [
    "# Refreshing an Expired Token\n",
    "\n",
    "In this step we show how to refresh an expired access token.\n",
    "\n",
    "## Setup\n",
    "\n",
    "Execute the following line to load the libraries:"
   ]
  },
  {
   "cell_type": "code",
   "execution_count": null,
   "metadata": {
    "collapsed": false
   },
   "outputs": [],
   "source": [
    "require('/opt/notebooks/tutorial/lib/tutorial-utils')(this);"
   ]
  },
  {
   "cell_type": "markdown",
   "metadata": {},
   "source": [
    "## Refreshing an access token\n",
    "\n",
    "To obtain a new access token to replace an expired token, the client makes a `POST /token` request with the following parameters:\n",
    "\n",
    "* `grant_type`: The value `\"http://tech.ebu.ch/cpa/1.0/client_credentials\"`.\n",
    "* `client_id`: The unique identifier for the client given by the authorization provider.\n",
    "* `client_secret`: A shared secret value between the client and authorization provider.\n",
    "* `domain`: The service provider domain.\n",
    "\n",
    "The client must have an existing access token for the given domain. After making this request, the previous access token is no longer valid, and is replaced by the new token."
   ]
  },
  {
   "cell_type": "code",
   "execution_count": null,
   "metadata": {
    "collapsed": false
   },
   "outputs": [],
   "source": [
    "this.post(\"http://ap:8001/token\", {\n",
    "  grant_type: \"http://tech.ebu.ch/cpa/1.0/client_credentials\",\n",
    "  client_id: \"<client_id>\",\n",
    "  client_secret: \"<client_secret>\",\n",
    "  domain: \"sp:8002\"\n",
    "});"
   ]
  },
  {
   "cell_type": "markdown",
   "metadata": {},
   "source": [
    "## Using the new access token\n",
    "\n",
    "We can now use the new access token in a request to the service provider."
   ]
  },
  {
   "cell_type": "code",
   "execution_count": null,
   "metadata": {
    "collapsed": false
   },
   "outputs": [],
   "source": [
    "this.post(\"http://sp:8002/radiodns/tag/1/tag\", {\n",
    "  time_source: \"user\",\n",
    "  bearer: \"0.c221.ce15.ce1.dab\",\n",
    "  time: 1441792800\n",
    "}, { form: true, token: \"<access-token>\" });"
   ]
  },
  {
   "cell_type": "markdown",
   "metadata": {
    "collapsed": true
   },
   "source": [
    "## Viewing the tags\n",
    "\n",
    "You can see the tags stored by the Service Provider [here](http://localhost:8002/tags/all)."
   ]
  }
 ],
 "metadata": {
  "kernelspec": {
   "display_name": "NodeJS",
   "language": "javascript",
   "name": "nodejs"
  },
  "language_info": {
   "codemirror_mode": "javascript",
   "file_extension": "js",
   "mimetype": "text/javascript",
   "name": "nodejs",
   "pygments_lexer": "javascript",
   "version": "0.10"
  }
 },
 "nbformat": 4,
 "nbformat_minor": 0
}
