{
 "cells": [
  {
   "cell_type": "markdown",
   "metadata": {},
   "source": [
    "# CPA Device Flow (Client Mode)\n",
    "\n",
    "In this step we show how to obtain an access token for use with a service provider, but **without** associating the client with a user account.\n",
    "\n",
    "## Setup\n",
    "\n",
    "Execute the following line to load the libraries:\n"
   ]
  },
  {
   "cell_type": "code",
   "execution_count": null,
   "metadata": {
    "collapsed": false
   },
   "outputs": [],
   "source": [
    "require('/opt/notebooks/tutorial/lib/tutorial-utils')(this);"
   ]
  },
  {
   "cell_type": "markdown",
   "metadata": {},
   "source": [
    "## Making an unauthenticated request\n",
    "\n",
    "Initially, the client does not have an access token, so will receive a `401 Unauthorized` error when making a request to the service provider. The following request uses the RadioTAG protocol.\n",
    "\n",
    "![Unauthenticated request](/notebooks/tutorial/images/uml/unauthenticated-request.png)"
   ]
  },
  {
   "cell_type": "code",
   "execution_count": null,
   "metadata": {
    "collapsed": true
   },
   "outputs": [],
   "source": [
    "this.post(\"http://sp:8002/radiodns/tag/1/tag\", {\n",
    "  bearer: \"0.c221.ce15.ce1.dab\",\n",
    "  time: 1441792800,\n",
    "  time_source: \"user\"\n",
    "}, { form: true });"
   ]
  },
  {
   "cell_type": "markdown",
   "metadata": {},
   "source": [
    "## WWW-Authenticate header\n",
    "\n",
    "The `401 Unauthorized` response contains a `WWW-Authenticate` header indicating that CPA authentication is supported by this service provider. The header contains several values:\n",
    "\n",
    "* `version`: The protocol version in use, currently 1.0.\n",
    "* `name`: The name of the authorization provider.\n",
    "* `uri`: The base URL of the authorization provider.\n",
    "* `modes`: A comma-separated list of available authorization modes.\n",
    "\n",
    "## Client mode\n",
    "\n",
    "![Client mode](/notebooks/tutorial/images/uml/client-mode.png)\n",
    "\n",
    "## Registering the client\n",
    "\n",
    "To register with the authorization parameter, the client makes a `POST /register` request with the following parameters:\n",
    "\n",
    "* `client_name`: human-readable name of the client.\n",
    "* `software_id`: an identifier for the client software\n",
    "    application.\n",
    "* `software_version`: a version identifier for the client software application.\n",
    "\n",
    "The URL is constructed by appending `/register` to the `uri` value from the `WWW-Authenticate` header."
   ]
  },
  {
   "cell_type": "code",
   "execution_count": null,
   "metadata": {
    "collapsed": false
   },
   "outputs": [],
   "source": [
    "this.post(\"http://ap:8001/register\", {\n",
    "  client_name: \"My test client\",\n",
    "  software_id: \"cpa-test-client\",\n",
    "  software_version: \"1.0\"\n",
    "});"
   ]
  },
  {
   "cell_type": "markdown",
   "metadata": {},
   "source": [
    "## Obtaining an access token\n",
    "\n",
    "To obtain an access token, the client makes `POST /token` requests with the following parameters:\n",
    "\n",
    "* `grant_type`: The value `\"http://tech.ebu.ch/cpa/1.0/client_credentials\"`.\n",
    "* `client_id`: The unique identifier for the client given by the authorization provider.\n",
    "* `client_secret`: A shared secret value between the client and authorization provider.\n",
    "* `domain`: The service provider domain."
   ]
  },
  {
   "cell_type": "code",
   "execution_count": null,
   "metadata": {
    "collapsed": false
   },
   "outputs": [],
   "source": [
    "this.post(\"http://ap:8001/token\", {\n",
    "  grant_type: \"http://tech.ebu.ch/cpa/1.0/client_credentials\",\n",
    "  client_id: \"<client_id>\",\n",
    "  client_secret: \"<client_secret>\",\n",
    "  domain: \"sp:8002\"\n",
    "});"
   ]
  },
  {
   "cell_type": "markdown",
   "metadata": {},
   "source": [
    "## Using the access token\n",
    "\n",
    "To use the access token in a request to the service provider, using the RadioTAG protocol, we include the token in an `Authorization` header.\n",
    "\n",
    "![Authenticated request](/notebooks/tutorial/images/uml/authenticated-request.png)"
   ]
  },
  {
   "cell_type": "code",
   "execution_count": null,
   "metadata": {
    "collapsed": false
   },
   "outputs": [],
   "source": [
    "this.post(\"http://sp:8002/radiodns/tag/1/tag\", {\n",
    "  time_source: \"user\",\n",
    "  bearer: \"0.c221.ce15.ce1.dab\",\n",
    "  time: 1441792800\n",
    "}, { form: true, token: \"<access_token>\" });"
   ]
  },
  {
   "cell_type": "markdown",
   "metadata": {},
   "source": [
    "## Viewing the tags\n",
    "\n",
    "You can see the tags stored by the Service Provider [here](http://localhost:8002/tags/all)."
   ]
  },
  {
   "cell_type": "markdown",
   "metadata": {},
   "source": [
    "## Next\n",
    "\n",
    "Go to [Refreshing an Expired Token](05_CPA_Tutorial_Token_Refresh.ipynb)."
   ]
  },
  {
   "cell_type": "code",
   "execution_count": null,
   "metadata": {
    "collapsed": true
   },
   "outputs": [],
   "source": []
  }
 ],
 "metadata": {
  "kernelspec": {
   "display_name": "NodeJS",
   "language": "javascript",
   "name": "nodejs"
  },
  "language_info": {
   "codemirror_mode": "javascript",
   "file_extension": "js",
   "mimetype": "text/javascript",
   "name": "nodejs",
   "pygments_lexer": "javascript",
   "version": "0.10"
  }
 },
 "nbformat": 4,
 "nbformat_minor": 0
}
